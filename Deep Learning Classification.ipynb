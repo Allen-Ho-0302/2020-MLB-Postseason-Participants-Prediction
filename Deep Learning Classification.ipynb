{
 "cells": [
  {
   "cell_type": "markdown",
   "metadata": {},
   "source": [
    "#Introduction\n",
    "\n",
    "2020 MLB season has already been hard to predict given it's short nature. This research aims to build a perfect model using team batting stats of the past eight years and then use the model to predict which teams' stats on 08/13/2020 is worthy of getting into postseason on a traditional 10-team postseason format. \n",
    "\n",
    "\n",
    "#Methods\n",
    "\n",
    "Model was built using the combination of 16 team regular season stats:PA, R, H, 2B, 3B, HR, RBI, SB, CS, BB, SO, BA, OBP, SLG, OPS, TB from 2012-2019 and whether that corresponding team went into postseason or not. \n",
    "\n",
    "Using SQL Server and Python\n",
    "\n",
    "Deep learning classification model by experimenting different number of neurons in each layer, different number of layers, different learning rate, model validation, dropout and early stopping."
   ]
  },
  {
   "cell_type": "markdown",
   "metadata": {},
   "source": [
    "##Step 1: Import data\n",
    "\n",
    "import regular season stats from MLB teams who got into postseason during 2012-2019\n",
    "\n",
    "items include Tm, PA, R, H, 2B, 3B, HR, RBI, SB, CS, BB, SO, BA, OBP, SLG, OPS, TB\n",
    "\n",
    "total rows are 8(years)*10(teams each year)=80"
   ]
  },
  {
   "cell_type": "code",
   "execution_count": 1,
   "metadata": {},
   "outputs": [],
   "source": [
    "import pandas as pd\n",
    "import pyodbc\n",
    "\n",
    "sql_conn = pyodbc.connect('''DRIVER={ODBC Driver 13 for SQL Server};\n",
    "                            SERVER=ALLENHO\\MSSQLSERVER002;\n",
    "                            DATABASE=Playoffbound;\n",
    "                            Trusted_Connection=yes''') \n",
    "query = '''\n",
    "select Tm, PA, R, H, HR, RBI, SB, CS, BB, SO, BA, OBP, SLG, OPS, TB\n",
    "from [dbo].['19B$']\n",
    "where Tm in ('WSN','LAD','MIL','ATL','STL','HOU','NYY','MIN','TBR','OAK')\n",
    "UNION ALL\n",
    "select Tm, PA, R, H, HR, RBI, SB, CS, BB, SO, BA, OBP, SLG, OPS, TB\n",
    "from [dbo].['18B$']\n",
    "where Tm in ('BOS','LAD','MIL','ATL','CHC','HOU','NYY','CLE','COL','OAK')\n",
    "UNION ALL\n",
    "select Tm, PA, R, H, HR, RBI, SB, CS, BB, SO, BA, OBP, SLG, OPS, TB\n",
    "from [dbo].['17B$']\n",
    "where Tm in ('BOS','LAD','COL','WSN','CHC','HOU','NYY','CLE','ARI','MIN')\n",
    "UNION ALL\n",
    "select Tm, PA, R, H, HR, RBI, SB, CS, BB, SO, BA, OBP, SLG, OPS, TB\n",
    "from [dbo].['16B$']\n",
    "where Tm in ('TOR','CLE','BOS','BAL','TEX','NYM','CHC','LAD','WSN','SFG')\n",
    "UNION ALL\n",
    "select Tm, PA, R, H, HR, RBI, SB, CS, BB, SO, BA, OBP, SLG, OPS, TB\n",
    "from [dbo].['15B$']\n",
    "where Tm in ('TOR','KCR','HOU','NYY','TEX','NYM','CHC','LAD','STL','PIT')\n",
    "UNION ALL\n",
    "select Tm, PA, R, H, HR, RBI, SB, CS, BB, SO, BA, OBP, SLG, OPS, TB\n",
    "from [dbo].['14B$']\n",
    "where Tm in ('BAL','KCR','OAK','LAA','DET','WSN','STL','LAD','PIT','SFG')\n",
    "UNION ALL\n",
    "select Tm, PA, R, H, HR, RBI, SB, CS, BB, SO, BA, OBP, SLG, OPS, TB\n",
    "from [dbo].['13B$']\n",
    "where Tm in ('BOS','TBR','OAK','CLE','DET','ATL','STL','LAD','PIT','CIN')\n",
    "UNION ALL\n",
    "select Tm, PA, R, H, HR, RBI, SB, CS, BB, SO, BA, OBP, SLG, OPS, TB\n",
    "from [dbo].['12B$']\n",
    "where Tm in ('TEX','BAL','OAK','NYY','DET','ATL','STL','SFG','WSN','CIN')\n",
    "'''\n",
    "df = pd.read_sql(query, sql_conn)\n",
    "\n",
    "#stored as df_post\n",
    "df_post = df"
   ]
  },
  {
   "cell_type": "markdown",
   "metadata": {},
   "source": [
    "import regular season stats from MLB teams who DIDN'T get into postseason during 2012-2019\n",
    "items are the same as above\n",
    "total rows are 8(years)*20(teams each year)=160"
   ]
  },
  {
   "cell_type": "code",
   "execution_count": 2,
   "metadata": {},
   "outputs": [
    {
     "name": "stdout",
     "output_type": "stream",
     "text": [
      "      Tm      PA      R       H     HR    RBI     SB    CS     BB      SO  \\\n",
      "0    ATL  6302.0  855.0  1432.0  249.0  824.0   89.0  28.0  619.0  1467.0   \n",
      "1    HOU  6394.0  920.0  1538.0  288.0  891.0   67.0  27.0  645.0  1166.0   \n",
      "2    LAD  6282.0  886.0  1414.0  279.0  861.0   57.0  10.0  607.0  1356.0   \n",
      "3    MIL  6309.0  769.0  1366.0  250.0  744.0  101.0  25.0  629.0  1563.0   \n",
      "4    MIN  6392.0  939.0  1547.0  307.0  906.0   28.0  21.0  525.0  1334.0   \n",
      "..   ...     ...    ...     ...    ...    ...    ...   ...    ...     ...   \n",
      "155  PIT  6014.0  651.0  1313.0  170.0  620.0   73.0  52.0  444.0  1354.0   \n",
      "156  SDP  6112.0  651.0  1339.0  121.0  610.0  155.0  46.0  539.0  1238.0   \n",
      "157  SEA  6057.0  619.0  1285.0  149.0  584.0  104.0  35.0  466.0  1259.0   \n",
      "158  TBR  6105.0  697.0  1293.0  175.0  665.0  134.0  44.0  571.0  1323.0   \n",
      "159  TOR  6094.0  716.0  1346.0  198.0  677.0  123.0  41.0  473.0  1251.0   \n",
      "\n",
      "        BA    OBP    SLG    OPS      TB  POST  \n",
      "0    0.258  0.336  0.452  0.789  2514.0     1  \n",
      "1    0.274  0.352  0.495  0.848  2781.0     1  \n",
      "2    0.257  0.338  0.472  0.810  2593.0     1  \n",
      "3    0.246  0.329  0.438  0.767  2429.0     1  \n",
      "4    0.270  0.338  0.494  0.832  2832.0     1  \n",
      "..     ...    ...    ...    ...     ...   ...  \n",
      "155  0.243  0.304  0.395  0.699  2138.0     0  \n",
      "156  0.247  0.319  0.380  0.699  2060.0     0  \n",
      "157  0.234  0.296  0.369  0.665  2027.0     0  \n",
      "158  0.240  0.317  0.394  0.711  2128.0     0  \n",
      "159  0.245  0.309  0.407  0.716  2231.0     0  \n",
      "\n",
      "[240 rows x 16 columns]\n"
     ]
    }
   ],
   "source": [
    "sql_conn = pyodbc.connect('''DRIVER={ODBC Driver 13 for SQL Server};\n",
    "                            SERVER=ALLENHO\\MSSQLSERVER002;\n",
    "                            DATABASE=Playoffbound;\n",
    "                            Trusted_Connection=yes''') \n",
    "query = '''\n",
    "select Tm, PA, R, H, HR, RBI, SB, CS, BB, SO, BA, OBP, SLG, OPS, TB\n",
    "from [dbo].['19B$']\n",
    "where Tm is not null and Tm not in ('WSN','LAD','MIL','ATL','STL','HOU','NYY','MIN','TBR','OAK', 'LgAvg')\n",
    "UNION ALL\n",
    "select Tm, PA, R, H, HR, RBI, SB, CS, BB, SO, BA, OBP, SLG, OPS, TB\n",
    "from [dbo].['18B$']\n",
    "where Tm is not null and Tm not in ('BOS','LAD','MIL','ATL','CHC','HOU','NYY','CLE','COL','OAK', 'LgAvg')\n",
    "UNION ALL\n",
    "select Tm, PA, R, H, HR, RBI, SB, CS, BB, SO, BA, OBP, SLG, OPS, TB\n",
    "from [dbo].['17B$']\n",
    "where Tm is not null and Tm not in ('BOS','LAD','COL','WSN','CHC','HOU','NYY','CLE','ARI','MIN', 'LgAvg')\n",
    "UNION ALL\n",
    "select Tm, PA, R, H, HR, RBI, SB, CS, BB, SO, BA, OBP, SLG, OPS, TB\n",
    "from [dbo].['16B$']\n",
    "where Tm is not null and Tm not in ('TOR','CLE','BOS','BAL','TEX','NYM','CHC','LAD','WSN','SFG', 'LgAvg')\n",
    "UNION ALL\n",
    "select Tm, PA, R, H, HR, RBI, SB, CS, BB, SO, BA, OBP, SLG, OPS, TB\n",
    "from [dbo].['15B$']\n",
    "where Tm is not null and Tm not in ('TOR','KCR','HOU','NYY','TEX','NYM','CHC','LAD','STL','PIT', 'LgAvg')\n",
    "UNION ALL\n",
    "select Tm, PA, R, H, HR, RBI, SB, CS, BB, SO, BA, OBP, SLG, OPS, TB\n",
    "from [dbo].['14B$']\n",
    "where Tm is not null and Tm not in ('BAL','KCR','OAK','LAA','DET','WSN','STL','LAD','PIT','SFG', 'LgAvg')\n",
    "UNION ALL\n",
    "select Tm, PA, R, H, HR, RBI, SB, CS, BB, SO, BA, OBP, SLG, OPS, TB\n",
    "from [dbo].['13B$']\n",
    "where Tm is not null and Tm not in ('BOS','TBR','OAK','CLE','DET','ATL','STL','LAD','PIT','CIN', 'LgAvg')\n",
    "UNION ALL\n",
    "select Tm, PA, R, H, HR, RBI, SB, CS, BB, SO, BA, OBP, SLG, OPS, TB\n",
    "from [dbo].['12B$']\n",
    "where Tm is not null and Tm not in ('TEX','BAL','OAK','NYY','DET','ATL','STL','SFG','WSN','CIN', 'LgAvg')\n",
    "'''\n",
    "df = pd.read_sql(query, sql_conn)\n",
    "\n",
    "#stored as df_npost\n",
    "df_npost = df\n",
    "\n",
    "#add each dataframe a new column named POST, which imply whether the team made the postseason that year\n",
    "df_post['POST']= 1\n",
    "df_npost['POST']= 0\n",
    "\n",
    "#append two dataframes together\n",
    "df_com=df_post.append(df_npost)\n",
    "\n",
    "#take a look at the table we got\n",
    "print(df_com)"
   ]
  },
  {
   "cell_type": "markdown",
   "metadata": {},
   "source": [
    "##Step 2: Build the deep learning classification model and experiment different number of neurons in each layer"
   ]
  },
  {
   "cell_type": "code",
   "execution_count": 17,
   "metadata": {},
   "outputs": [
    {
     "data": {
      "image/png": "[encoded data removed]",
      "text/plain": [
       "<Figure size 432x288 with 1 Axes>"
      ]
     },
     "metadata": {
      "needs_background": "light"
     },
     "output_type": "display_data"
    }
   ],
   "source": [
    "# Import necessary modules\n",
    "\n",
    "from keras.layers import Dense\n",
    "from keras.models import Sequential\n",
    "from keras.utils import to_categorical\n",
    "from keras.optimizers import adam\n",
    "import matplotlib.pyplot as plt\n",
    "\n",
    "# Save the number of columns in predictors: n_cols\n",
    "predictors=df_com.loc[:,'PA':'TB'].to_numpy()\n",
    "n_cols = predictors.shape[1]\n",
    "input_shape = (n_cols,)\n",
    "\n",
    "# Convert the target to categorical: target\n",
    "target = to_categorical(df_com['POST'])\n",
    "\n",
    "# Set up the model_1\n",
    "model_1 = Sequential()\n",
    "\n",
    "# Add the first and second layer\n",
    "model_1.add(Dense(60, activation='relu', input_shape=input_shape))\n",
    "model_1.add(Dense(60, activation='relu'))\n",
    "\n",
    "# Add the output layer\n",
    "model_1.add(Dense(2, activation='softmax'))\n",
    "\n",
    "# Compile the model\n",
    "model_1.compile(optimizer='adam', \n",
    "              loss='categorical_crossentropy', \n",
    "              metrics=['accuracy'])\n",
    "\n",
    "# Create the new model: model_2\n",
    "model_2 = Sequential()\n",
    "\n",
    "# Add the first and second layers\n",
    "model_2.add(Dense(55, activation='relu', input_shape=input_shape))\n",
    "model_2.add(Dense(55, activation='relu'))\n",
    "\n",
    "# Add the output layer\n",
    "model_2.add(Dense(2, activation='softmax'))\n",
    "\n",
    "# Compile model_2\n",
    "model_2.compile(optimizer='adam', \n",
    "                loss='categorical_crossentropy', \n",
    "                metrics=['accuracy'])\n",
    "\n",
    "# Fit model_1\n",
    "model_1_training = model_1.fit(predictors, target, epochs=20, batch_size=50, validation_split=0.2, verbose=False)\n",
    "\n",
    "# Fit model_2\n",
    "model_2_training = model_2.fit(predictors, target, epochs=20, batch_size=50, validation_split=0.2, verbose=False)\n",
    "\n",
    "# Create the plot\n",
    "plt.plot(model_1_training.history['val_loss'], 'r', model_2_training.history['val_loss'], 'b')\n",
    "plt.xlabel('Epochs')\n",
    "plt.ylabel('Validation score')\n",
    "plt.show()"
   ]
  },
  {
   "cell_type": "markdown",
   "metadata": {},
   "source": [
    "Result: 60 neurons in both hidden layers(red one) had a better performance than 55 neurons in both hidden layers(blue one)"
   ]
  },
  {
   "cell_type": "markdown",
   "metadata": {},
   "source": [
    "##Step 3: experiment different number of layers"
   ]
  },
  {
   "cell_type": "code",
   "execution_count": 4,
   "metadata": {},
   "outputs": [
    {
     "data": {
      "image/png": "[encoded data removed]",
      "text/plain": [
       "<Figure size 432x288 with 1 Axes>"
      ]
     },
     "metadata": {
      "needs_background": "light"
     },
     "output_type": "display_data"
    }
   ],
   "source": [
    "# Create the new model: model_3\n",
    "model_3 = Sequential()\n",
    "\n",
    "# Add 20 hidden layers\n",
    "model_3.add(Dense(60, activation='relu', input_shape=input_shape))\n",
    "for i in range(19):\n",
    "    model_3.add(Dense(60, activation='relu'))\n",
    "\n",
    "# Add the output layer\n",
    "model_3.add(Dense(2, activation='softmax'))\n",
    "\n",
    "# Compile model_3\n",
    "model_3.compile(optimizer='adam', loss='categorical_crossentropy', metrics=['accuracy'])\n",
    "\n",
    "# Create the new model: model_4\n",
    "model_4 = Sequential()\n",
    "\n",
    "# Add 25 hidden layers\n",
    "model_4.add(Dense(60, activation='relu', input_shape=input_shape))\n",
    "for i in range(24):\n",
    "    model_4.add(Dense(60, activation='relu'))\n",
    "\n",
    "# Add the output layer\n",
    "model_4.add(Dense(2, activation='softmax'))\n",
    "\n",
    "# Compile model_2\n",
    "model_4.compile(optimizer='adam', loss='categorical_crossentropy', metrics=['accuracy'])\n",
    "\n",
    "# Fit model 1\n",
    "model_3_training = model_3.fit(predictors, target, epochs=20, batch_size=50, validation_split=0.2, verbose=False)\n",
    "\n",
    "# Fit model 2\n",
    "model_4_training = model_4.fit(predictors, target, epochs=20, batch_size=50, validation_split=0.2, verbose=False)\n",
    "\n",
    "# Create the plot\n",
    "plt.plot(model_3_training.history['val_loss'], 'r', model_4_training.history['val_loss'], 'b')\n",
    "plt.xlabel('Epochs')\n",
    "plt.ylabel('Validation score')\n",
    "plt.show()"
   ]
  },
  {
   "cell_type": "markdown",
   "metadata": {},
   "source": [
    "Result: 20 hidden layers(red one) appeared to have better performance than 25 hidden layers(blue one)"
   ]
  },
  {
   "cell_type": "markdown",
   "metadata": {},
   "source": [
    "##Step 4: Try different learning rate"
   ]
  },
  {
   "cell_type": "code",
   "execution_count": 5,
   "metadata": {},
   "outputs": [
    {
     "name": "stdout",
     "output_type": "stream",
     "text": [
      "\n",
      "\n",
      "Testing model with learning rate: 0.000001\n",
      "\n",
      "Epoch 1/10\n",
      "240/240 [==============================] - 1s 5ms/step - loss: 0.6514\n",
      "Epoch 2/10\n",
      "240/240 [==============================] - 0s 142us/step - loss: 0.6502\n",
      "Epoch 3/10\n",
      "240/240 [==============================] - 0s 146us/step - loss: 0.6490\n",
      "Epoch 4/10\n",
      "240/240 [==============================] - 0s 142us/step - loss: 0.6479\n",
      "Epoch 5/10\n",
      "240/240 [==============================] - 0s 150us/step - loss: 0.6471\n",
      "Epoch 6/10\n",
      "240/240 [==============================] - 0s 137us/step - loss: 0.6463\n",
      "Epoch 7/10\n",
      "240/240 [==============================] - 0s 129us/step - loss: 0.6456\n",
      "Epoch 8/10\n",
      "240/240 [==============================] - 0s 121us/step - loss: 0.6449\n",
      "Epoch 9/10\n",
      "240/240 [==============================] - 0s 133us/step - loss: 0.6443\n",
      "Epoch 10/10\n",
      "240/240 [==============================] - 0s 137us/step - loss: 0.6438\n",
      "\n",
      "\n",
      "Testing model with learning rate: 0.010000\n",
      "\n",
      "Epoch 1/10\n",
      "240/240 [==============================] - 1s 6ms/step - loss: 2.4826\n",
      "Epoch 2/10\n",
      "240/240 [==============================] - 0s 175us/step - loss: 0.7720\n",
      "Epoch 3/10\n",
      "240/240 [==============================] - 0s 167us/step - loss: 0.6510\n",
      "Epoch 4/10\n",
      "240/240 [==============================] - 0s 183us/step - loss: 0.6870\n",
      "Epoch 5/10\n",
      "240/240 [==============================] - 0s 158us/step - loss: 0.6514\n",
      "Epoch 6/10\n",
      "240/240 [==============================] - 0s 158us/step - loss: 0.6391\n",
      "Epoch 7/10\n",
      "240/240 [==============================] - 0s 187us/step - loss: 0.6484\n",
      "Epoch 8/10\n",
      "240/240 [==============================] - 0s 204us/step - loss: 0.6387\n",
      "Epoch 9/10\n",
      "240/240 [==============================] - 0s 204us/step - loss: 0.6377\n",
      "Epoch 10/10\n",
      "240/240 [==============================] - 0s 233us/step - loss: 0.6401\n",
      "\n",
      "\n",
      "Testing model with learning rate: 1.000000\n",
      "\n",
      "Epoch 1/10\n",
      "240/240 [==============================] - 2s 9ms/step - loss: nan\n",
      "Epoch 2/10\n",
      "240/240 [==============================] - 0s 246us/step - loss: nan\n",
      "Epoch 3/10\n",
      "240/240 [==============================] - 0s 221us/step - loss: nan\n",
      "Epoch 4/10\n",
      "240/240 [==============================] - 0s 233us/step - loss: nan\n",
      "Epoch 5/10\n",
      "240/240 [==============================] - 0s 204us/step - loss: nan\n",
      "Epoch 6/10\n",
      "240/240 [==============================] - 0s 233us/step - loss: nan\n",
      "Epoch 7/10\n",
      "240/240 [==============================] - 0s 237us/step - loss: nan\n",
      "Epoch 8/10\n",
      "240/240 [==============================] - 0s 279us/step - loss: nan\n",
      "Epoch 9/10\n",
      "240/240 [==============================] - 0s 246us/step - loss: nan\n",
      "Epoch 10/10\n",
      "240/240 [==============================] - 0s 212us/step - loss: nan\n"
     ]
    }
   ],
   "source": [
    "def get_new_model(input_shape = input_shape):    \n",
    "    model_5 = Sequential()  \n",
    "    model_5.add(Dense(60, activation='relu', input_shape = input_shape))    \n",
    "    for i in range(19):\n",
    "        model_5.add(Dense(60, activation='relu'))\n",
    "    model_5.add(Dense(2, activation='softmax'))\n",
    "    return(model_5)\n",
    "\n",
    "# Create list of learning rates: lr_to_test\n",
    "lr_to_test = [.000001, 0.01, 1]\n",
    "\n",
    "# Loop over learning rates\n",
    "for lr in lr_to_test:\n",
    "    print('\\n\\nTesting model with learning rate: %f\\n'%lr )\n",
    "    # Build new model to test, unaffected by previous models\n",
    "    model_5 = get_new_model()\n",
    "    # Create adam optimizer with specified learning rate: my_optimizer\n",
    "    my_optimizer = adam(lr=lr)\n",
    "    # Compile the model\n",
    "    model_5.compile(optimizer=my_optimizer, loss='categorical_crossentropy')\n",
    "    # Fit the model\n",
    "    model_5.fit(predictors, target, batch_size=50, epochs=10)"
   ]
  },
  {
   "cell_type": "markdown",
   "metadata": {},
   "source": [
    "Result: learning rate as 0.01(default) had the best performance"
   ]
  },
  {
   "cell_type": "markdown",
   "metadata": {},
   "source": [
    "##Step 5: Try the model with only training data with the best combination of neurons(60), layers(20) and learning rate(0.01, default)"
   ]
  },
  {
   "cell_type": "code",
   "execution_count": 6,
   "metadata": {
    "scrolled": true
   },
   "outputs": [
    {
     "name": "stdout",
     "output_type": "stream",
     "text": [
      "Epoch 1/5\n",
      "240/240 [==============================] - 2s 6ms/step - loss: 1.0682 - accuracy: 0.5833\n",
      "Epoch 2/5\n",
      "240/240 [==============================] - 0s 187us/step - loss: 0.6629 - accuracy: 0.6667\n",
      "Epoch 3/5\n",
      "240/240 [==============================] - 0s 175us/step - loss: 0.6520 - accuracy: 0.6667\n",
      "Epoch 4/5\n",
      "240/240 [==============================] - 0s 183us/step - loss: 0.6578 - accuracy: 0.6625\n",
      "Epoch 5/5\n",
      "240/240 [==============================] - 0s 175us/step - loss: 0.6508 - accuracy: 0.6667\n"
     ]
    },
    {
     "data": {
      "text/plain": [
       "<keras.callbacks.callbacks.History at 0x1c076ccb7f0>"
      ]
     },
     "execution_count": 6,
     "metadata": {},
     "output_type": "execute_result"
    }
   ],
   "source": [
    "# Set up the model\n",
    "model_6 = Sequential()\n",
    "\n",
    "# Add layers\n",
    "model_6.add(Dense(60, activation='relu', input_shape = input_shape))    \n",
    "for i in range(19):\n",
    "    model_6.add(Dense(60, activation='relu'))\n",
    "\n",
    "# Add the output layer\n",
    "model_6.add(Dense(2, activation='softmax'))\n",
    "\n",
    "# Compile the model\n",
    "model_6.compile(optimizer='adam', \n",
    "              loss='categorical_crossentropy', \n",
    "              metrics=['accuracy'])\n",
    "\n",
    "# Fit the model\n",
    "model_6.fit(predictors, target, batch_size=50, epochs=5)"
   ]
  },
  {
   "cell_type": "markdown",
   "metadata": {},
   "source": [
    "##Step 6: Perform with validating"
   ]
  },
  {
   "cell_type": "code",
   "execution_count": 7,
   "metadata": {},
   "outputs": [
    {
     "name": "stdout",
     "output_type": "stream",
     "text": [
      "Train on 192 samples, validate on 48 samples\n",
      "Epoch 1/5\n",
      "192/192 [==============================] - 2s 12ms/step - loss: 0.8756 - accuracy: 0.5312 - val_loss: 0.3274 - val_accuracy: 1.0000\n",
      "Epoch 2/5\n",
      "192/192 [==============================] - 0s 265us/step - loss: 0.9529 - accuracy: 0.4792 - val_loss: 0.4773 - val_accuracy: 1.0000\n",
      "Epoch 3/5\n",
      "192/192 [==============================] - 0s 271us/step - loss: 0.6865 - accuracy: 0.5521 - val_loss: 0.5467 - val_accuracy: 1.0000\n",
      "Epoch 4/5\n",
      "192/192 [==============================] - 0s 198us/step - loss: 0.6787 - accuracy: 0.5833 - val_loss: 0.5237 - val_accuracy: 1.0000\n",
      "Epoch 5/5\n",
      "192/192 [==============================] - 0s 250us/step - loss: 0.6799 - accuracy: 0.5833 - val_loss: 0.5095 - val_accuracy: 1.0000\n"
     ]
    },
    {
     "data": {
      "text/plain": [
       "<keras.callbacks.callbacks.History at 0x1c07b82a5f8>"
      ]
     },
     "execution_count": 7,
     "metadata": {},
     "output_type": "execute_result"
    }
   ],
   "source": [
    "# Set up the model\n",
    "model_7 = Sequential()\n",
    "\n",
    "# Add the first and second layer\n",
    "model_7.add(Dense(60, activation='relu', input_shape = (n_cols,)))\n",
    "for i in range(19):\n",
    "    model_7.add(Dense(60, activation='relu'))\n",
    "\n",
    "# Add the output layer\n",
    "model_7.add(Dense(2, activation='softmax'))\n",
    "\n",
    "# Compile the model\n",
    "model_7.compile(optimizer='adam', \n",
    "              loss='categorical_crossentropy', \n",
    "              metrics=['accuracy'])\n",
    "\n",
    "# Fit the model\n",
    "model_7.fit(predictors, target, validation_split=0.2, batch_size=50, epochs=5)"
   ]
  },
  {
   "cell_type": "markdown",
   "metadata": {},
   "source": [
    "##Step 7: Try dropout and see the change of accuracy of both training and validating data set"
   ]
  },
  {
   "cell_type": "code",
   "execution_count": 8,
   "metadata": {
    "scrolled": true
   },
   "outputs": [
    {
     "name": "stdout",
     "output_type": "stream",
     "text": [
      "Train on 192 samples, validate on 48 samples\n",
      "Epoch 1/5\n",
      "192/192 [==============================] - 3s 18ms/step - loss: 424.5005 - accuracy: 0.5260 - val_loss: 0.5094 - val_accuracy: 1.0000\n",
      "Epoch 2/5\n",
      "192/192 [==============================] - 0s 375us/step - loss: 322.6070 - accuracy: 0.4896 - val_loss: 0.5612 - val_accuracy: 1.0000\n",
      "Epoch 3/5\n",
      "192/192 [==============================] - 0s 380us/step - loss: 217.1908 - accuracy: 0.5104 - val_loss: 0.6222 - val_accuracy: 1.0000\n",
      "Epoch 4/5\n",
      "192/192 [==============================] - 0s 338us/step - loss: 184.1501 - accuracy: 0.5000 - val_loss: 0.6571 - val_accuracy: 1.0000\n",
      "Epoch 5/5\n",
      "192/192 [==============================] - 0s 359us/step - loss: 72.7212 - accuracy: 0.5833 - val_loss: 0.6660 - val_accuracy: 1.0000\n"
     ]
    },
    {
     "data": {
      "text/plain": [
       "<keras.callbacks.callbacks.History at 0x1c07f92dba8>"
      ]
     },
     "execution_count": 8,
     "metadata": {},
     "output_type": "execute_result"
    }
   ],
   "source": [
    "from keras.layers import Dropout\n",
    "\n",
    "# Set up the model\n",
    "model_8 = Sequential()\n",
    "\n",
    "# Add the layers\n",
    "model_8.add(Dense(60, activation='relu', input_shape = (n_cols,)))\n",
    "model_8.add(Dropout(0.5))\n",
    "for i in range(19):\n",
    "    model_8.add(Dense(60, activation='relu'))\n",
    "    model_8.add(Dropout(0.5))\n",
    "\n",
    "# Add the output layer\n",
    "model_8.add(Dense(2, activation='softmax'))\n",
    "\n",
    "# Compile the model\n",
    "model_8.compile(optimizer='adam', \n",
    "              loss='categorical_crossentropy', \n",
    "              metrics=['accuracy'])\n",
    "\n",
    "# Fit the model\n",
    "model_8.fit(predictors, target, validation_split=0.2, batch_size=50, epochs=5)"
   ]
  },
  {
   "cell_type": "markdown",
   "metadata": {},
   "source": [
    "As expected, with dropout, training data set became less accurate than without dropout, however validating set became more accurate"
   ]
  },
  {
   "cell_type": "markdown",
   "metadata": {},
   "source": [
    "##Step 8: Try early stopping and see the change of accuracy of both training and validating data set"
   ]
  },
  {
   "cell_type": "code",
   "execution_count": 18,
   "metadata": {},
   "outputs": [
    {
     "name": "stdout",
     "output_type": "stream",
     "text": [
      "Train on 192 samples, validate on 48 samples\n",
      "Epoch 1/20\n",
      "192/192 [==============================] - 3s 14ms/step - loss: 0.7437 - accuracy: 0.5260 - val_loss: 0.3796 - val_accuracy: 1.0000\n",
      "Epoch 2/20\n",
      "192/192 [==============================] - 0s 229us/step - loss: 0.6861 - accuracy: 0.5833 - val_loss: 0.6623 - val_accuracy: 1.0000\n",
      "Epoch 3/20\n",
      "192/192 [==============================] - 0s 234us/step - loss: 0.6842 - accuracy: 0.5833 - val_loss: 0.6222 - val_accuracy: 1.0000\n",
      "Epoch 4/20\n",
      "192/192 [==============================] - 0s 260us/step - loss: 0.6865 - accuracy: 0.5833 - val_loss: 0.5067 - val_accuracy: 1.0000\n",
      "Epoch 5/20\n",
      "192/192 [==============================] - 0s 312us/step - loss: 0.6862 - accuracy: 0.5833 - val_loss: 0.6074 - val_accuracy: 1.0000\n",
      "Epoch 6/20\n",
      "192/192 [==============================] - 0s 323us/step - loss: 0.6860 - accuracy: 0.5833 - val_loss: 0.5593 - val_accuracy: 1.0000\n"
     ]
    },
    {
     "data": {
      "text/plain": [
       "<keras.callbacks.callbacks.History at 0x1c011341d30>"
      ]
     },
     "execution_count": 18,
     "metadata": {},
     "output_type": "execute_result"
    }
   ],
   "source": [
    "# Import EarlyStopping\n",
    "from keras.callbacks import EarlyStopping\n",
    "\n",
    "# Specify the model\n",
    "model_9 = Sequential()\n",
    "model_9.add(Dense(60, activation='relu', input_shape = input_shape))\n",
    "for i in range(19):\n",
    "    model_9.add(Dense(60, activation='relu'))\n",
    "model_9.add(Dense(2, activation='softmax'))\n",
    "\n",
    "# Compile the model\n",
    "model_9.compile(optimizer='adam', loss='categorical_crossentropy', metrics=['accuracy'])\n",
    "\n",
    "# Define early_stopping_monitor\n",
    "early_stopping_monitor = EarlyStopping(patience=5)\n",
    "\n",
    "# Fit the model\n",
    "model_9.fit(predictors, target, validation_split=0.2, batch_size=50, epochs=20, callbacks=[early_stopping_monitor])"
   ]
  },
  {
   "cell_type": "markdown",
   "metadata": {},
   "source": [
    "Result: 5 epochs to wait before early stop if no progress on the validation set"
   ]
  },
  {
   "cell_type": "markdown",
   "metadata": {},
   "source": [
    "##Step 9: Perform prediction\n",
    "\n",
    "import 2020 team stats as of 08/14/2020 normalized to 162 games, try to see which teams' stats on 08/13/2020 is worthy of getting into postseason on a traditional 10-team postseason format. "
   ]
  },
  {
   "cell_type": "code",
   "execution_count": 10,
   "metadata": {},
   "outputs": [
    {
     "name": "stdout",
     "output_type": "stream",
     "text": [
      "         PA162        R162         H162       HR162      RBI162      SB162  \\\n",
      "0  6096.315789  750.315789  1347.157895  127.894737  707.684211  34.105263   \n",
      "1  5977.800000  842.400000  1312.200000  226.800000  826.200000  64.800000   \n",
      "2  6111.000000  864.000000  1467.000000  243.000000  846.000000  63.000000   \n",
      "3  6096.315789  724.736842  1415.368421  196.105263  682.105263  34.105263   \n",
      "4  6176.250000  840.375000  1296.000000  232.875000  789.750000  50.625000   \n",
      "\n",
      "       CS162       BB162        SO162     BA    OBP    SLG    OPS        TB162  \n",
      "0  25.578947  477.473684  1219.263158  0.245  0.315  0.382  0.697  2097.473684  \n",
      "1  24.300000  526.500000  1644.300000  0.244  0.316  0.437  0.753  2349.000000  \n",
      "2  45.000000  513.000000  1305.000000  0.269  0.337  0.473  0.810  2583.000000  \n",
      "3  25.578947  426.315789  1492.105263  0.254  0.316  0.422  0.738  2353.263158  \n",
      "4  10.125000  658.125000  1620.000000  0.244  0.344  0.431  0.776  2288.250000  \n"
     ]
    }
   ],
   "source": [
    "import pandas as pd\n",
    "df_2020=pd.read_excel(r'C:\\Users\\allen\\Desktop\\Baseball research\\Postseason or bust\\2020 projection for 0813.xlsx')\n",
    "df_2020=df_2020.loc[:,['PA162', 'R162', 'H162', 'HR162', 'RBI162', 'SB162', 'CS162', 'BB162', 'SO162', 'BA', 'OBP', 'SLG', 'OPS', 'TB162']]\n",
    "print(df_2020.head())"
   ]
  },
  {
   "cell_type": "code",
   "execution_count": 39,
   "metadata": {},
   "outputs": [
    {
     "name": "stdout",
     "output_type": "stream",
     "text": [
      "[0.3952239  0.39462185 0.38999453 0.39484945 0.392843   0.39291558\n",
      " 0.3971191  0.3997976  0.38670668 0.39637354 0.38669688 0.39432058\n",
      " 0.3909235  0.38842043 0.39719608 0.39797345 0.39433664 0.3918838\n",
      " 0.39587435 0.3956131  0.3930428  0.3966231  0.39536327 0.39697862\n",
      " 0.3974107  0.4047947  0.39315706 0.39955214 0.39503822 0.40168834]\n",
      "[False False False False False False False False False False False False\n",
      " False False False False False False False False False False False False\n",
      " False False False False False False]\n"
     ]
    }
   ],
   "source": [
    "### Calculate predictions: predictions\n",
    "predictions = model_9.predict(df_2020.to_numpy())\n",
    "\n",
    "# Calculate predicted probability of survival: predicted_prob_true\n",
    "predicted_prob_true = predictions[:,1]\n",
    "\n",
    "# print predicted_prob_true\n",
    "print(predictions[:,1])\n",
    "print(predicted_prob_true>0.5)"
   ]
  },
  {
   "cell_type": "markdown",
   "metadata": {},
   "source": [
    "#Result\n",
    "\n",
    "The model we built has a roughly 60% accuracy on training data set(data from 2011-2019). However when trying to see which teams' stats on 08/13/2020(normalized to 162 games) are worthy of getting into postseason on a traditional 10-team postseason format, it shows none of them. \n",
    "\n",
    "#Conclusion\n",
    "\n",
    "Though it's a bit weird to see this, one can probably assume from the result that this is such a bad year for team batting so far that the model doesn't think any team is good enough for postseason on the past eight years' standard. "
   ]
  }
 ],
 "metadata": {
  "kernelspec": {
   "display_name": "Python 3",
   "language": "python",
   "name": "python3"
  },
  "language_info": {
   "codemirror_mode": {
    "name": "ipython",
    "version": 3
   },
   "file_extension": ".py",
   "mimetype": "text/x-python",
   "name": "python",
   "nbconvert_exporter": "python",
   "pygments_lexer": "ipython3",
   "version": "3.6.10"
  }
 },
 "nbformat": 4,
 "nbformat_minor": 4
}
